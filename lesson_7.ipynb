{
 "cells": [
  {
   "cell_type": "markdown",
   "metadata": {},
   "source": [
    "1.Даны значения величины заработной платы заемщиков банка (zp) и значения их поведенческого кредитного скоринга (ks): zp = [35, 45, 190, 200, 40, 70, 54, 150, 120, 110], ks = [401, 574, 874, 919, 459, 739, 653, 902, 746, 832]. Используя математические операции, посчитать коэффициенты линейной регрессии, приняв за X заработную плату (то есть, zp - признак), а за y - значения скорингового балла (то есть, ks - целевая переменная). Произвести расчет как с использованием intercept, так и без."
   ]
  },
  {
   "cell_type": "code",
   "execution_count": 1,
   "metadata": {},
   "outputs": [],
   "source": [
    "import pandas as pd\n",
    "import numpy as np\n",
    "import matplotlib.pyplot as plt\n",
    "import seaborn as sns\n",
    "%matplotlib inline\n"
   ]
  },
  {
   "cell_type": "code",
   "execution_count": 2,
   "metadata": {},
   "outputs": [],
   "source": [
    "x = np.array([35, 45, 190, 200, 40, 70, 54, 150, 120, 110])\n",
    "y = np.array([401, 574, 874, 919, 459, 739, 653, 902, 746, 832])\n",
    "n = len(y)"
   ]
  },
  {
   "cell_type": "markdown",
   "metadata": {},
   "source": [
    "$$b = \\frac{\\overline{yx} - \\overline{y} \\cdot {\\overline{x}}}{\\overline{x^2} - (\\overline{x})^2};$$\n",
    "$$a = \\overline{y} - b \\cdot {\\overline{x}}.$$\n",
    "$$r_{xy} = \\frac{\\sum\\limits_{i=1}^{n} (x_i - \\overline{x})(y_i - \\overline{y})} {\\sqrt{\\sum\\limits_{i=1}^{n} (x_i - \\overline{x})^2 \\cdot {\\sum\\limits_{i=1}^{n} (y_i - \\overline{y})^2}}} = b \\cdot {\\frac{\\sigma_x}{\\sigma_y}}$$"
   ]
  },
  {
   "cell_type": "code",
   "execution_count": 3,
   "metadata": {},
   "outputs": [
    {
     "data": {
      "text/plain": [
       "2.620538882402765"
      ]
     },
     "execution_count": 3,
     "metadata": {},
     "output_type": "execute_result"
    }
   ],
   "source": [
    "b = (np.mean(x * y) - np.mean(x) * np.mean(y)) / (np.mean(x**2) - np.mean(x) ** 2)\n",
    "b"
   ]
  },
  {
   "cell_type": "code",
   "execution_count": 4,
   "metadata": {},
   "outputs": [
    {
     "data": {
      "text/plain": [
       "444.1773573243596"
      ]
     },
     "execution_count": 4,
     "metadata": {},
     "output_type": "execute_result"
    }
   ],
   "source": [
    "a = np.mean(y) - b * np.mean(x)\n",
    "a"
   ]
  },
  {
   "cell_type": "code",
   "execution_count": 5,
   "metadata": {},
   "outputs": [
    {
     "data": {
      "image/png": "[encoded data removed]",
      "text/plain": [
       "<Figure size 432x288 with 1 Axes>"
      ]
     },
     "metadata": {
      "needs_background": "light"
     },
     "output_type": "display_data"
    }
   ],
   "source": [
    "plt.scatter(x, y)\n",
    "plt.plot(x, a + b * x)\n",
    "plt.xlabel('Зароботная плата')\n",
    "plt.ylabel('Кредитный скоринг')\n",
    "plt.show()"
   ]
  },
  {
   "cell_type": "code",
   "execution_count": 6,
   "metadata": {},
   "outputs": [],
   "source": [
    "x_two = np.reshape(x, (10, 1))\n",
    "y_two = np.reshape(y, (10, 1))"
   ]
  },
  {
   "cell_type": "code",
   "execution_count": 7,
   "metadata": {},
   "outputs": [
    {
     "data": {
      "text/plain": [
       "array([[5.88982042]])"
      ]
     },
     "execution_count": 7,
     "metadata": {},
     "output_type": "execute_result"
    }
   ],
   "source": [
    "np.dot(np.linalg.inv(np.dot(x_two.T, x_two)), x_two.T@y_two)"
   ]
  },
  {
   "cell_type": "code",
   "execution_count": 8,
   "metadata": {},
   "outputs": [],
   "source": [
    "x_two = np.hstack([np.ones((10, 1)), x_two])"
   ]
  },
  {
   "cell_type": "code",
   "execution_count": 9,
   "metadata": {},
   "outputs": [
    {
     "data": {
      "text/plain": [
       "array([[444.17735732],\n",
       "       [  2.62053888]])"
      ]
     },
     "execution_count": 9,
     "metadata": {},
     "output_type": "execute_result"
    }
   ],
   "source": [
    "np.dot(np.linalg.inv(np.dot(x_two.T, x_two)), x_two.T@y_two)"
   ]
  },
  {
   "cell_type": "markdown",
   "metadata": {},
   "source": [
    "Посчитать коэффициент линейной регрессии при заработной плате (zp), используя градиентный спуск (без intercept)."
   ]
  },
  {
   "cell_type": "code",
   "execution_count": 10,
   "metadata": {},
   "outputs": [],
   "source": [
    "alpha = 1e-6\n",
    "B1 = 0.1\n",
    "def mse_(B1, y=y, X=x, n=10):\n",
    "    return np.sum((B1 * X - y) ** 2) / n"
   ]
  },
  {
   "cell_type": "code",
   "execution_count": 11,
   "metadata": {},
   "outputs": [
    {
     "name": "stdout",
     "output_type": "stream",
     "text": [
      " 0, B1 : 0.25952808, mse: 493237.7212546963\n",
      " 100, B1 : 5.54537842245223, mse: 58151.31823171113\n",
      " 200, B1 : 5.868748638669329, mse: 56522.97550129376\n",
      " 300, B1 : 5.888531320728348, mse: 56516.88130936019\n",
      " 400, B1 : 5.8897415574471985, mse: 56516.85850140053\n",
      " 500, B1 : 5.889815595583751, mse: 56516.858416040064\n",
      " 600, B1 : 5.889820124983314, mse: 56516.85841572062\n",
      " 700, B1 : 5.889820402076462, mse: 56516.85841571941\n",
      " 800, B1 : 5.88982041902807, mse: 56516.8584157194\n",
      " 900, B1 : 5.889820420065112, mse: 56516.85841571941\n"
     ]
    }
   ],
   "source": [
    "for i in range(1000):\n",
    "    B1 -= alpha * (2/n)* np.sum((B1 * x - y) * x)\n",
    "    if i % 100 == 0:\n",
    "        print(f' {i}, B1 : {B1}, mse: {mse_(B1) }')"
   ]
  },
  {
   "cell_type": "code",
   "execution_count": 12,
   "metadata": {},
   "outputs": [
    {
     "data": {
      "text/plain": [
       "56516.85841571943"
      ]
     },
     "execution_count": 12,
     "metadata": {},
     "output_type": "execute_result"
    }
   ],
   "source": [
    "mse_(5.88982042)"
   ]
  },
  {
   "cell_type": "markdown",
   "metadata": {},
   "source": [
    "3. В каких случаях для вычисления доверительных интервалов и проверки статистических гипотез используется таблица значений функции Лапласа, а в каких - таблица критических точек распределения Стьюдента?"
   ]
  },
  {
   "cell_type": "markdown",
   "metadata": {},
   "source": [
    "По таблице Стьюдента ищем когда не знаем дисперсию нулевой выборки и при большом объеме данных"
   ]
  },
  {
   "cell_type": "markdown",
   "metadata": {},
   "source": [
    "*4. Произвести вычисления как в пункте 2, но с вычислением intercept. Учесть, что изменение коэффициентов должно производиться на каждом шаге одновременно (то есть изменение одного коэффициента не должно влиять на изменение другого во время одной итерации)."
   ]
  },
  {
   "cell_type": "code",
   "execution_count": 13,
   "metadata": {},
   "outputs": [],
   "source": [
    "def mse_two(A1, B1, y=y, X=x, n=10):\n",
    "    return np.sum(((A1 + B1 * X) - y) ** 2) / n\n",
    "A1=1\n",
    "beta=0.5\n",
    "alpha = 1e-5"
   ]
  },
  {
   "cell_type": "code",
   "execution_count": 14,
   "metadata": {},
   "outputs": [
    {
     "name": "stdout",
     "output_type": "stream",
     "text": [
      " A0B1999, A1,: 56.83610469948824, B1 : 5.471489263205138, mse: 44528.58405070672\n",
      " A100B1999, A1,: 444.17685860957397, B1 : 2.6205425530964974, mse: 6470.414201239748\n",
      " A200B1999, A1,: 444.1773573237173, B1 : 2.6205388824074936, mse: 6470.414201176663\n",
      " A300B1999, A1,: 444.17735732435926, B1 : 2.6205388824027684, mse: 6470.414201176657\n",
      " A400B1999, A1,: 444.17735732435926, B1 : 2.6205388824027684, mse: 6470.414201176657\n",
      " A500B1999, A1,: 444.17735732435926, B1 : 2.6205388824027684, mse: 6470.414201176657\n",
      " A600B1999, A1,: 444.17735732435926, B1 : 2.6205388824027684, mse: 6470.414201176657\n",
      " A700B1999, A1,: 444.17735732435926, B1 : 2.6205388824027684, mse: 6470.414201176657\n",
      " A800B1999, A1,: 444.17735732435926, B1 : 2.6205388824027684, mse: 6470.414201176657\n",
      " A900B1999, A1,: 444.17735732435926, B1 : 2.6205388824027684, mse: 6470.414201176657\n",
      " A999B1999, A1,: 444.17735732435926, B1 : 2.6205388824027684, mse: 6470.414201176657\n"
     ]
    }
   ],
   "source": [
    "for i in range(1000):\n",
    "    A1 -= beta * (1/n)* np.sum((A1 + B1 * x) - y)\n",
    "    for l in range(2000):\n",
    "        B1 -= alpha * (2/n)* np.sum(((A1 + B1 * x) - y) * x)\n",
    "    if i % 100 == 0:\n",
    "        print(f' A{i}B{l}, A1,: {A1}, B1 : {B1}, mse: {mse_two(A1, B1) }')\n",
    "print(f' A{i}B{l}, A1,: {A1}, B1 : {B1}, mse: {mse_two(A1, B1) }')"
   ]
  },
  {
   "cell_type": "code",
   "execution_count": 15,
   "metadata": {},
   "outputs": [
    {
     "data": {
      "text/plain": [
       "444.1773573243596"
      ]
     },
     "execution_count": 15,
     "metadata": {},
     "output_type": "execute_result"
    }
   ],
   "source": [
    "a"
   ]
  },
  {
   "cell_type": "code",
   "execution_count": 16,
   "metadata": {},
   "outputs": [
    {
     "data": {
      "text/plain": [
       "2.620538882402765"
      ]
     },
     "execution_count": 16,
     "metadata": {},
     "output_type": "execute_result"
    }
   ],
   "source": [
    "b"
   ]
  }
 ],
 "metadata": {
  "kernelspec": {
   "display_name": "Python 3",
   "language": "python",
   "name": "python3"
  },
  "language_info": {
   "codemirror_mode": {
    "name": "ipython",
    "version": 3
   },
   "file_extension": ".py",
   "mimetype": "text/x-python",
   "name": "python",
   "nbconvert_exporter": "python",
   "pygments_lexer": "ipython3",
   "version": "3.7.6"
  }
 },
 "nbformat": 4,
 "nbformat_minor": 2
}
